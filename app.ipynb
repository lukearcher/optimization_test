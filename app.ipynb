{
 "cells": [
  {
   "cell_type": "markdown",
   "id": "46b68749",
   "metadata": {},
   "source": [
    "# Optimization Test"
   ]
  },
  {
   "cell_type": "markdown",
   "id": "d6ab7edb",
   "metadata": {},
   "source": [
    "#### Guns and Butter Example"
   ]
  },
  {
   "cell_type": "markdown",
   "id": "53bef9c9",
   "metadata": {},
   "source": [
    "This is a simple example... testing the linear programming optimizer... have fun!"
   ]
  },
  {
   "cell_type": "code",
   "execution_count": 1,
   "id": "0261112c",
   "metadata": {},
   "outputs": [],
   "source": [
    "# Import PuLP modeler functions\n",
    "from pulp import *"
   ]
  },
  {
   "cell_type": "code",
   "execution_count": 2,
   "id": "5364ff91",
   "metadata": {},
   "outputs": [],
   "source": [
    "# need ipywidgets\n",
    "import ipywidgets as widgets"
   ]
  },
  {
   "cell_type": "code",
   "execution_count": 3,
   "id": "09c75c7b",
   "metadata": {},
   "outputs": [],
   "source": [
    "# first widget... budget\n",
    "budget_text = widgets.Text(\n",
    "    value='1800',\n",
    "    description='Budget',\n",
    "    disabled=False\n",
    ")"
   ]
  },
  {
   "cell_type": "code",
   "execution_count": 4,
   "id": "06db28e3",
   "metadata": {},
   "outputs": [],
   "source": [
    "# second widget.. storage capacity\n",
    "storage_text = widgets.Text(\n",
    "    value='21',\n",
    "    description='space',\n",
    "    disabled=False\n",
    ")"
   ]
  },
  {
   "cell_type": "code",
   "execution_count": 5,
   "id": "01972176",
   "metadata": {},
   "outputs": [],
   "source": [
    "# function to clear the output\n",
    "def clear_output(): out.clear_output()"
   ]
  },
  {
   "cell_type": "code",
   "execution_count": 8,
   "id": "f71db3ae",
   "metadata": {},
   "outputs": [],
   "source": [
    "# functionalize this\n",
    "def guns_and_butter(def_string): \n",
    "\n",
    "    # first let's clear the output\n",
    "    clear_output()\n",
    "\n",
    "    # now grab the text for analysis\n",
    "    budget_constraint = int(budget_text.value)\n",
    "    storage_constraint = int(storage_text.value)\n",
    "\n",
    "    # Create the 'prob' variable to contain the problem data\n",
    "    prob = LpProblem(\"Guns and Butter\", LpMaximize) \n",
    "\n",
    "    # The 2 variables Beef and Chicken are created with a lower limit of zero\n",
    "    guns = LpVariable(\"Guns\", 0, None, LpInteger)\n",
    "    butter = LpVariable(\"Butter\",  0, None, LpInteger)\n",
    "\n",
    "    # The objective function is added to 'prob' first\n",
    "    prob += 195 * guns + 150 * butter, \"Total Revenue\"\n",
    "\n",
    "    prob += 150 * guns + 100 * butter <= budget_constraint, \"Budget\"\n",
    "    prob += 0.5 * guns + 1.5 * butter <= storage_constraint, \"Storage\"\n",
    "\n",
    "    # The problem is solved using PuLP's choice of Solver\n",
    "    prob.solve()\n",
    "\n",
    "    # clear the output widget\n",
    "    clear_output()\n",
    "\n",
    "    # print out the sentiment\n",
    "    with out: \n",
    "        for v in prob.variables():\n",
    "            print(v.name, v.varValue)"
   ]
  },
  {
   "cell_type": "code",
   "execution_count": 9,
   "id": "370a335a",
   "metadata": {},
   "outputs": [],
   "source": [
    "# output object\n",
    "out = widgets.Output(layout={'border': '1px solid black'})\n",
    "out.append_stdout('Optimization Results:')"
   ]
  },
  {
   "cell_type": "code",
   "execution_count": 10,
   "id": "c2c3e659",
   "metadata": {},
   "outputs": [],
   "source": [
    "# create the button object\n",
    "button = widgets.Button(\n",
    "    description='Optimize',\n",
    "    disabled=False,\n",
    "    tooltip='Optimize'\n",
    ")\n",
    "# set the event handler \n",
    "button.on_click(guns_and_butter)"
   ]
  },
  {
   "cell_type": "code",
   "execution_count": 11,
   "id": "ba47e0f4",
   "metadata": {},
   "outputs": [
    {
     "data": {
      "application/vnd.jupyter.widget-view+json": {
       "model_id": "6f96b9f1c646445cb15239608f603976",
       "version_major": 2,
       "version_minor": 0
      },
      "text/plain": [
       "Text(value='1800', description='Budget')"
      ]
     },
     "metadata": {},
     "output_type": "display_data"
    }
   ],
   "source": [
    "# display the text\n",
    "budget_text"
   ]
  },
  {
   "cell_type": "code",
   "execution_count": 12,
   "id": "76d606ce",
   "metadata": {},
   "outputs": [
    {
     "data": {
      "application/vnd.jupyter.widget-view+json": {
       "model_id": "9d65d80b0e344a88b364788284c2da3d",
       "version_major": 2,
       "version_minor": 0
      },
      "text/plain": [
       "Text(value='21', description='space')"
      ]
     },
     "metadata": {},
     "output_type": "display_data"
    }
   ],
   "source": [
    "# display the text\n",
    "storage_text"
   ]
  },
  {
   "cell_type": "code",
   "execution_count": 13,
   "id": "7b3cfefe",
   "metadata": {},
   "outputs": [
    {
     "data": {
      "application/vnd.jupyter.widget-view+json": {
       "model_id": "0f2c5100b5104e2492086873560bcfd2",
       "version_major": 2,
       "version_minor": 0
      },
      "text/plain": [
       "Button(description='Optimize', style=ButtonStyle(), tooltip='Optimize')"
      ]
     },
     "metadata": {},
     "output_type": "display_data"
    },
    {
     "name": "stderr",
     "output_type": "stream",
     "text": [
      "C:\\Users\\lukea\\anaconda3\\envs\\gunsandbutter\\lib\\site-packages\\pulp\\pulp.py:1352: UserWarning: Spaces are not permitted in the name. Converted to '_'\n",
      "  warnings.warn(\"Spaces are not permitted in the name. Converted to '_'\")\n"
     ]
    }
   ],
   "source": [
    "# display the button\n",
    "button"
   ]
  },
  {
   "cell_type": "code",
   "execution_count": 14,
   "id": "79671eea",
   "metadata": {},
   "outputs": [
    {
     "data": {
      "application/vnd.jupyter.widget-view+json": {
       "model_id": "9da3c159c7214a47a33e7812a211ca30",
       "version_major": 2,
       "version_minor": 0
      },
      "text/plain": [
       "Output(layout=Layout(border='1px solid black'), outputs=({'output_type': 'stream', 'name': 'stdout', 'text': '…"
      ]
     },
     "metadata": {},
     "output_type": "display_data"
    }
   ],
   "source": [
    "# show the output widget\n",
    "out"
   ]
  }
 ],
 "metadata": {
  "kernelspec": {
   "display_name": "Python 3 (ipykernel)",
   "language": "python",
   "name": "python3"
  },
  "language_info": {
   "codemirror_mode": {
    "name": "ipython",
    "version": 3
   },
   "file_extension": ".py",
   "mimetype": "text/x-python",
   "name": "python",
   "nbconvert_exporter": "python",
   "pygments_lexer": "ipython3",
   "version": "3.9.12"
  }
 },
 "nbformat": 4,
 "nbformat_minor": 5
}
